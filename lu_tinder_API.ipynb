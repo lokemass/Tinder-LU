{
  "nbformat": 4,
  "nbformat_minor": 0,
  "metadata": {
    "colab": {
      "name": "lu_tinder_API.ipynb",
      "provenance": [],
      "collapsed_sections": [],
      "toc_visible": true
    },
    "kernelspec": {
      "name": "python3",
      "display_name": "Python 3"
    },
    "language_info": {
      "name": "python"
    }
  },
  "cells": [
    {
      "cell_type": "markdown",
      "metadata": {
        "id": "ALmS6hTXFDhZ"
      },
      "source": [
        "\n",
        "Steps to follow\n",
        "1. See Tindeer Demo\n",
        "2. List all The function which we want we want to build \n",
        "3. Setup Database\n",
        "4. Start Building Flask API\n",
        "5. Host the API on Heroku !!\n"
      ]
    },
    {
      "cell_type": "markdown",
      "metadata": {
        "id": "ilkrJ27MFKeR"
      },
      "source": [
        "Page 1\n",
        "login page with phone number,etc,..."
      ]
    },
    {
      "cell_type": "markdown",
      "metadata": {
        "id": "zqNNBkaIFQ81"
      },
      "source": [
        "permisson , like locatin c"
      ]
    },
    {
      "cell_type": "markdown",
      "metadata": {
        "id": "qrR1PR9kFPo_"
      },
      "source": [
        "1. Create Profile\n",
        "2. name\n",
        "3. number\n",
        "4. Location\n",
        "    lat lng\n",
        "    city\n",
        "    State\n",
        "    Country\n",
        "5. Gender \n",
        "6. job\n",
        "7. passion\n",
        "8. Company\n",
        "9. age/DOB\n",
        "10. Images X 9\n",
        "Backend\n",
        "-------------------\n",
        "11. UID - user id\n",
        "12. CreateDAT\n",
        "13. LastOpeneDate"
      ]
    },
    {
      "cell_type": "markdown",
      "metadata": {
        "id": "tQIIG3A2FPUB"
      },
      "source": [
        "1. Feed->\n",
        "    User data Array[]\n",
        "2. Matching...\n",
        "    1. left Swap -> rejecting\n",
        "    2. Right Swap -> I want to Talk...\n",
        "    "
      ]
    },
    {
      "cell_type": "markdown",
      "metadata": {
        "id": "RKw-y8UiFeW5"
      },
      "source": [
        "3rd step ->\n",
        "1. https://console.firebase.google.com/\n",
        "2. auth\n",
        "3. database -> FireStore\n",
        "4. Image  XStoring -> Fire base storage"
      ]
    },
    {
      "cell_type": "markdown",
      "metadata": {
        "id": "yxVmm7FWGd2A"
      },
      "source": [
        "Fire Store\n",
        "-----------\n",
        "auth -> email/pass -> enable\n"
      ]
    },
    {
      "cell_type": "markdown",
      "metadata": {
        "id": "QdprELyyHLnH"
      },
      "source": [
        "Firebase AUTH is used for authenticating the user using multiple  Auth Providers, and Default Email Id / Password "
      ]
    },
    {
      "cell_type": "markdown",
      "metadata": {
        "id": "Bkf5e66RKLH2"
      },
      "source": [
        "firebase-> project over view -> project settings -> Service account ->python -> generate key -> copy ."
      ]
    },
    {
      "cell_type": "markdown",
      "metadata": {
        "id": "OwWl0sZ9HlH_"
      },
      "source": [
        "project\n",
        "---------"
      ]
    },
    {
      "cell_type": "markdown",
      "metadata": {
        "id": "dwHcTI-5K-eK"
      },
      "source": [
        "After key downloaded\n",
        "--------------------\n",
        "1. upload key in coloab in ->\n",
        "files-> upload (from pc to colab)\n",
        "2. and right click the uploaded file and copy the path \n",
        "3. paste path in Certificate(\"path\")"
      ]
    },
    {
      "cell_type": "markdown",
      "metadata": {
        "id": "kaOI4pIEPlDR"
      },
      "source": [
        "#Initiated firebase"
      ]
    },
    {
      "cell_type": "code",
      "metadata": {
        "id": "DZcr6ZW_Hju9"
      },
      "source": [
        "import firebase_admin"
      ],
      "execution_count": 1,
      "outputs": []
    },
    {
      "cell_type": "code",
      "metadata": {
        "id": "hcmx_RisIe4z"
      },
      "source": [
        "from firebase_admin import auth, firestore, storage, credentials"
      ],
      "execution_count": 2,
      "outputs": []
    },
    {
      "cell_type": "code",
      "metadata": {
        "id": "x6Wq_OlZnBfY"
      },
      "source": [
        ""
      ],
      "execution_count": 2,
      "outputs": []
    },
    {
      "cell_type": "code",
      "metadata": {
        "colab": {
          "base_uri": "https://localhost:8080/"
        },
        "id": "aZnVfqAbIyVf",
        "outputId": "2a7b3ce3-c489-4530-e0da-d4ea830f6c15"
      },
      "source": [
        "#-----------------------Firebase---------------------------\n",
        "\n",
        "cred = credentials.Certificate(\"/content/lu-tinder-firebase-adminsdk-o038f-282d78d889.json\")\n",
        "firebase_admin.initialize_app(cred)\n"
      ],
      "execution_count": 3,
      "outputs": [
        {
          "output_type": "execute_result",
          "data": {
            "text/plain": [
              "<firebase_admin.App at 0x7f2026a6f5d0>"
            ]
          },
          "metadata": {
            "tags": []
          },
          "execution_count": 3
        }
      ]
    },
    {
      "cell_type": "code",
      "metadata": {
        "id": "dyXaFOX1NQTb"
      },
      "source": [
        "store = firestore.client()"
      ],
      "execution_count": 4,
      "outputs": []
    },
    {
      "cell_type": "markdown",
      "metadata": {
        "id": "8VR6KNiCP87s"
      },
      "source": [
        "--------------------firebsae  Database end----------------------\n",
        "---------------------------------------------"
      ]
    },
    {
      "cell_type": "markdown",
      "metadata": {
        "id": "Ut2Y42u1QNMJ"
      },
      "source": [
        "#Auth/ authendication \n",
        "1. firebase-> auth-> go to doc (corrnor bell icon) open in new tab\n",
        "2. build -> authentication\n",
        "3. left side-> admin-> introduction (Read)\n",
        "4. manage user-> code avilable -> Create a User -> copy that code"
      ]
    },
    {
      "cell_type": "code",
      "metadata": {
        "colab": {
          "base_uri": "https://localhost:8080/"
        },
        "id": "xBHDFfXTP0g5",
        "outputId": "40373de4-e6de-46b4-bb7b-c04a234f39f7"
      },
      "source": [
        "# User signup\n",
        "user = auth.create_user(\n",
        "    email='hackerloke07@gmail.com',\n",
        "    email_verified=False,\n",
        "    password='12345678')\n",
        "print('Sucessfully created new user: {0}'.format(user.uid))"
      ],
      "execution_count": 5,
      "outputs": [
        {
          "output_type": "stream",
          "text": [
            "Sucessfully created new user: wQVt4o8ti2Tc3gGbDQlt8WnVpFB2\n"
          ],
          "name": "stdout"
        }
      ]
    },
    {
      "cell_type": "code",
      "metadata": {
        "colab": {
          "base_uri": "https://localhost:8080/"
        },
        "id": "eYjnUEzLSMAr",
        "outputId": "08d644c3-5974-49de-fa76-61784a05a865"
      },
      "source": [
        "# User Login ->\n",
        "try:\n",
        "  user = auth.get_user_by_email(\"mani@mail.com\")\n",
        "  print(user.uid)\n",
        "except:\n",
        "  print(\"Error no usesr found\")"
      ],
      "execution_count": 6,
      "outputs": [
        {
          "output_type": "stream",
          "text": [
            "Error no usesr found\n"
          ],
          "name": "stdout"
        }
      ]
    },
    {
      "cell_type": "code",
      "metadata": {
        "id": "PSz1ZXEKT41t"
      },
      "source": [
        "# Database ---->\n"
      ],
      "execution_count": 7,
      "outputs": []
    },
    {
      "cell_type": "code",
      "metadata": {
        "id": "YvmQuHGKUOJJ"
      },
      "source": [
        "# we will build alll the function required for the class \n",
        "# we will wrap it is flask API Localhost \n",
        "# we will host it on Heroka\n",
        "# we will text with real time data coming into the picture"
      ],
      "execution_count": 8,
      "outputs": []
    },
    {
      "cell_type": "code",
      "metadata": {
        "id": "8G9WTwI3K-s1"
      },
      "source": [
        "# Features we want to Build"
      ],
      "execution_count": 9,
      "outputs": []
    },
    {
      "cell_type": "markdown",
      "metadata": {
        "id": "OCAOuSGVMB6U"
      },
      "source": [
        "1. login\n",
        "2. Signup\n",
        "3. Update User- Profile\n",
        "4. feed\n",
        "5. match"
      ]
    },
    {
      "cell_type": "code",
      "metadata": {
        "id": "xEfuBF_DLO4b"
      },
      "source": [
        "def signUp(emailOfUser,passwordOfUser):\n",
        "  uid = \"\"\n",
        "  message = \"\"\n",
        "  try:\n",
        "    user = auth.create_user(\n",
        "    email=emailOfUser,\n",
        "    email_verified=False,\n",
        "    password=passwordOfUser)\n",
        "    message = \"Sucessfully created new user\"\n",
        "    uid = user.uid\n",
        "  except:\n",
        "    message = \"User already there!!!\"\n",
        "\n",
        "  return {\"uid\":uid, \"message\":message}\n",
        "\n"
      ],
      "execution_count": 10,
      "outputs": []
    },
    {
      "cell_type": "code",
      "metadata": {
        "colab": {
          "base_uri": "https://localhost:8080/"
        },
        "id": "BgrWWEHYNpbN",
        "outputId": "1413a907-fcc5-4e25-8a1f-517322789f95"
      },
      "source": [
        "signUp(\"kalaiasasuakm@gmail.com\" , \"Kalai1234\")"
      ],
      "execution_count": 11,
      "outputs": [
        {
          "output_type": "execute_result",
          "data": {
            "text/plain": [
              "{'message': 'User already there!!!', 'uid': ''}"
            ]
          },
          "metadata": {
            "tags": []
          },
          "execution_count": 11
        }
      ]
    },
    {
      "cell_type": "code",
      "metadata": {
        "id": "IOTqzyQ-PQbS"
      },
      "source": [
        "# for this project I am doing this not so fair activity with the login ,\n",
        "# cozz a user can login with just entering Email, \n",
        "# this is due to Firebase auth is been implemented nativly\n",
        "# here is check only mail is validation no password !!!\n",
        "def login(emailOfUser,passwordOfUser):\n",
        "  uid = \"\"\n",
        "  message = \"\"\n",
        "  try:\n",
        "    user = auth.get_user_by_email(emailOfUser)\n",
        "    message = \"Login email avilable\"\n",
        "    uid = user.uid\n",
        "  except:\n",
        "    message = \"User not There in Firebase there!!!\"\n",
        "\n",
        "  return {\"uid\":uid, \"message\":message}"
      ],
      "execution_count": 12,
      "outputs": []
    },
    {
      "cell_type": "code",
      "metadata": {
        "colab": {
          "base_uri": "https://localhost:8080/"
        },
        "id": "4Nq_k8LyoAmr",
        "outputId": "2e72a3ef-ab32-49d1-a592-b150d5f4aa20"
      },
      "source": [
        "login(\"loke@hack.in\",\"123456\")\n",
        "# Valid user"
      ],
      "execution_count": 13,
      "outputs": [
        {
          "output_type": "execute_result",
          "data": {
            "text/plain": [
              "{'message': 'Login email avilable', 'uid': 'W4RMbjVyKIN3o1EmtD345ofBa5x1'}"
            ]
          },
          "metadata": {
            "tags": []
          },
          "execution_count": 13
        }
      ]
    },
    {
      "cell_type": "code",
      "metadata": {
        "colab": {
          "base_uri": "https://localhost:8080/"
        },
        "id": "vrOGjfQwoXcw",
        "outputId": "c3155fd2-abd1-40a9-8c08-c120b09d65ff"
      },
      "source": [
        "login(\"loke@hack.org\",\"12345678\")\n",
        "# not user "
      ],
      "execution_count": 14,
      "outputs": [
        {
          "output_type": "execute_result",
          "data": {
            "text/plain": [
              "{'message': 'User not There in Firebase there!!!', 'uid': ''}"
            ]
          },
          "metadata": {
            "tags": []
          },
          "execution_count": 14
        }
      ]
    },
    {
      "cell_type": "markdown",
      "metadata": {
        "id": "uQpQNdE6N4AT"
      },
      "source": [
        "Update the users profile\n",
        "-----------------------------\n",
        "1. Name\n",
        "2. image\n",
        "3. desp\n",
        "4. Number\n",
        "5. Location \n",
        "  1. Lat Lng\n",
        "  2. city\n",
        "  3. State\n",
        "  4. Country\n",
        "6. Age/DOB\n",
        "7. Gender\n",
        "8. Passion\n",
        "9. job\n",
        "10. Company\n",
        "\n",
        "\n",
        "\n"
      ]
    },
    {
      "cell_type": "code",
      "metadata": {
        "id": "aCwiZ1dHolll"
      },
      "source": [
        "def updateUserData(uid,dit):\n",
        "\n",
        "  dit_user_details = {}\n",
        "  #dit_user_details['name'] = dit.get(\"name\")\n",
        "  #dit_user_details[\"number\"] = dit.get(\"number\")\n",
        "  #dit_user_details[\"image\"] = dit.get(\"image\") \n",
        "  #dit_user_details[\"desp\"] = dit.get(\"desp\") \n",
        "  #dit_user_details[\"location\"] = dit.get(\"location\")\n",
        " # dit_user_details[\"dob\"] = dit.get(\"dob\") \n",
        "#  dit_user_details[\"gender\"] = dit.get[\"gender\"] \n",
        "  dit_user_details['name'] =dit[\"name\"] \n",
        "  dit_user_details[\"number\"] =dit[\"number\"] \n",
        "  dit_user_details[\"email\"] =dit[\"email\"] \n",
        "  dit_user_details[\"image\"] = dit[\"image\"] \n",
        "  dit_user_details[\"desp\"] = dit[\"desp\"] \n",
        "  dit_user_details[\"dob\"] = dit[\"dob\"] \n",
        "  dit_user_details[\"gender\"] = dit[\"gender\"] \n",
        "  dit_user_details[\"passion\"] = dit[\"passion\"] \n",
        "  dit_user_details[\"job\"] = dit[\"job\"] \n",
        "  dit_user_details[\"company\"] = dit[\"company\"] \n",
        "  dit_user_details[\"location\"] = dit[\"location\"]\n",
        "  dit_user_details[\"createdAt\"] = firestore.SERVER_TIMESTAMP\n",
        " # dit_user_details['location'][\"coordinate\"][\"lat\"] = dit[\"location\"][\"coordinate\"][\"lat\"]\n",
        "  #dit_user_details['location'][\"coordinate\"][\"lng\"] = dit[\"location\"][\"coordinate\"][\"lng\"]\n",
        "  #dit_user_details['location'][\"city\"] = dit[\"location\"][\"coordinate\"][\"city\"]\n",
        "  #dit_user_details['location'][\"State\"] = dit[\"location\"][\"coordinate\"][\"State\"]\n",
        "  #dit_user_details['location'][\"country\"] = dit[\"location\"][\"coordinate\"][\"country\"]\n",
        "\n",
        "  store.collection(\"users\").document(uid).set(dit_user_details)\n"
      ],
      "execution_count": 38,
      "outputs": []
    },
    {
      "cell_type": "markdown",
      "metadata": {
        "id": "KgU8D978Pknl"
      },
      "source": [
        "firebase->storage -> get start -> upload file -> select pictures and upload png image"
      ]
    },
    {
      "cell_type": "code",
      "metadata": {
        "id": "ABO3YCRwPHHN"
      },
      "source": [
        "dit = {}\n",
        "dit[\"name\"] = \"lokesh\"\n",
        "dit[\"email\"] = \"hackerloke07@gmail.com\"\n",
        "dit[\"number\"] = \"9988776655\"\n",
        "dit[\"image\"] = \"https://firebasestorage.googleapis.com/v0/b/lu-tinder.appspot.com/o/20200629_185915.jpg?alt=media&token=0dddd424-fe97-4e85-bef9-4a8f930fbde4\"\n",
        "dit[\"desp\"] = \"Single !!!\"\n",
        "dit[\"location\"] = {\"coordinate\":{\"lat\":12.4918,\"lng\":79.1097},\n",
        "                   \"city\":\"TVMalai\",\n",
        "                   \"State\":\"tamil nadu\",\n",
        "                   \"country\":\"India\"}\n",
        "dit[\"dob\"] = \"01/09/2000\"\n",
        "dit[\"gender\"] = \"male\"\n",
        "dit[\"passion\"] = \"Hacker\"\n",
        "dit[\"job\"] = \"developer\"\n",
        "dit[\"company\"] = \"nil\""
      ],
      "execution_count": 34,
      "outputs": []
    },
    {
      "cell_type": "code",
      "metadata": {
        "id": "zTFjRZEy1kVK"
      },
      "source": [
        "updateUserData(\"wQVt4o8ti2Tc3gGbDQlt8WnVpFB2\",dit)"
      ],
      "execution_count": 35,
      "outputs": []
    },
    {
      "cell_type": "code",
      "metadata": {
        "id": "-39d8uao2cI8"
      },
      "source": [
        "updateUserData(\"wQVt4o8ti2Tc3gGbDQlt8WnVp123\",dit)"
      ],
      "execution_count": 36,
      "outputs": []
    },
    {
      "cell_type": "code",
      "metadata": {
        "id": "LjgordIa65oH"
      },
      "source": [
        "updateUserData(\"wQVt4o8ti2Tc3gGbDQlt8WnVp120\",dit)"
      ],
      "execution_count": 39,
      "outputs": []
    },
    {
      "cell_type": "code",
      "metadata": {
        "id": "8721fC297hBf"
      },
      "source": [
        "#get the Feed \n",
        "def getFeed(country):\n",
        "\n",
        "  docs = store.collection(\"users\").stream()\n",
        "  dit = {}\n",
        "  for doc in docs:\n",
        "    dit[doc.id] = doc.to_dict()\n",
        "  return dit"
      ],
      "execution_count": 44,
      "outputs": []
    },
    {
      "cell_type": "code",
      "metadata": {
        "id": "Ym_ay7ek9JVh"
      },
      "source": [
        "allProfiles = getFeed(\"india\")"
      ],
      "execution_count": 45,
      "outputs": []
    },
    {
      "cell_type": "code",
      "metadata": {
        "colab": {
          "base_uri": "https://localhost:8080/"
        },
        "id": "5sA95zn09rwL",
        "outputId": "f8f7578c-58db-4bd3-940f-55d781d59cdb"
      },
      "source": [
        "allProfiles"
      ],
      "execution_count": 46,
      "outputs": [
        {
          "output_type": "execute_result",
          "data": {
            "text/plain": [
              "{'wQVt4o8ti2Tc3gGbDQlt8WnVp120': {'company': 'nil',\n",
              "  'createdAt': DatetimeWithNanoseconds(2021, 3, 23, 16, 34, 31, 397000, tzinfo=<UTC>),\n",
              "  'desp': 'Single !!!',\n",
              "  'dob': '01/09/2000',\n",
              "  'email': 'hackerloke07@gmail.com',\n",
              "  'gender': 'male',\n",
              "  'image': 'https://firebasestorage.googleapis.com/v0/b/lu-tinder.appspot.com/o/20200629_185915.jpg?alt=media&token=0dddd424-fe97-4e85-bef9-4a8f930fbde4',\n",
              "  'job': 'developer',\n",
              "  'location': {'State': 'tamil nadu',\n",
              "   'city': 'TVMalai',\n",
              "   'coordinate': {'lat': 12.4918, 'lng': 79.1097},\n",
              "   'country': 'India'},\n",
              "  'name': 'lokesh',\n",
              "  'number': '9988776655',\n",
              "  'passion': 'Hacker'},\n",
              " 'wQVt4o8ti2Tc3gGbDQlt8WnVp123': {'company': 'nil',\n",
              "  'desp': 'Single !!!',\n",
              "  'dob': '01/09/2000',\n",
              "  'email': 'hackerloke07@gmail.com',\n",
              "  'gender': 'male',\n",
              "  'image': 'https://firebasestorage.googleapis.com/v0/b/lu-tinder.appspot.com/o/20200629_185915.jpg?alt=media&token=0dddd424-fe97-4e85-bef9-4a8f930fbde4',\n",
              "  'job': 'developer',\n",
              "  'location': {'State': 'tamil nadu',\n",
              "   'city': 'TVMalai',\n",
              "   'coordinate': {'lat': 12.4918, 'lng': 79.1097},\n",
              "   'country': 'India'},\n",
              "  'name': 'lokesh',\n",
              "  'number': '9988776655',\n",
              "  'passion': 'Hacker'},\n",
              " 'wQVt4o8ti2Tc3gGbDQlt8WnVpFB2': {'company': 'nil',\n",
              "  'desp': 'Single !!!',\n",
              "  'dob': '01/09/2000',\n",
              "  'email': 'hackerloke07@gmail.com',\n",
              "  'gender': 'male',\n",
              "  'image': 'https://firebasestorage.googleapis.com/v0/b/lu-tinder.appspot.com/o/20200629_185915.jpg?alt=media&token=0dddd424-fe97-4e85-bef9-4a8f930fbde4',\n",
              "  'job': 'developer',\n",
              "  'location': {'State': 'tamil nadu',\n",
              "   'city': 'TVMalai',\n",
              "   'coordinate': {'lat': 12.4918, 'lng': 79.1097},\n",
              "   'country': 'India'},\n",
              "  'name': 'lokesh',\n",
              "  'number': '9988776655',\n",
              "  'passion': 'Hacker'}}"
            ]
          },
          "metadata": {
            "tags": []
          },
          "execution_count": 46
        }
      ]
    },
    {
      "cell_type": "code",
      "metadata": {
        "id": "YogY5Zgi9uvT"
      },
      "source": [
        ""
      ],
      "execution_count": null,
      "outputs": []
    }
  ]
}