{
  "nbformat": 4,
  "nbformat_minor": 0,
  "metadata": {
    "colab": {
      "name": "lu-tinder-day1.ipynb",
      "provenance": [],
      "collapsed_sections": [],
      "toc_visible": true
    },
    "kernelspec": {
      "name": "python3",
      "display_name": "Python 3"
    },
    "language_info": {
      "name": "python"
    }
  },
  "cells": [
    {
      "cell_type": "markdown",
      "metadata": {
        "id": "ALmS6hTXFDhZ"
      },
      "source": [
        "\n",
        "Steps to follow\n",
        "1. See Tindeer Demo\n",
        "2. List all The function which we want we want to build \n",
        "3. Setup Database\n",
        "4. Start Building Flask API\n",
        "5. Host the API on Heroku !!\n"
      ]
    },
    {
      "cell_type": "markdown",
      "metadata": {
        "id": "ilkrJ27MFKeR"
      },
      "source": [
        "Page 1\n",
        "login page with phone number,etc,..."
      ]
    },
    {
      "cell_type": "markdown",
      "metadata": {
        "id": "zqNNBkaIFQ81"
      },
      "source": [
        "permisson , like locatin c"
      ]
    },
    {
      "cell_type": "markdown",
      "metadata": {
        "id": "qrR1PR9kFPo_"
      },
      "source": [
        "1. Create Profile\n",
        "2. name\n",
        "3. number\n",
        "4. Location\n",
        "    lat lng\n",
        "    city\n",
        "    State\n",
        "    Country\n",
        "5. Gender \n",
        "6. job\n",
        "7. passion\n",
        "8. Company\n",
        "9. age/DOB\n",
        "10. Images X 9\n",
        "Backend\n",
        "-------------------\n",
        "11. UID - user id\n",
        "12. CreateDAT\n",
        "13. LastOpeneDate"
      ]
    },
    {
      "cell_type": "markdown",
      "metadata": {
        "id": "tQIIG3A2FPUB"
      },
      "source": [
        "1. Feed->\n",
        "    User data Array[]\n",
        "2. Matching...\n",
        "    1. left Swap -> rejecting\n",
        "    2. Right Swap -> I want to Talk...\n",
        "    "
      ]
    },
    {
      "cell_type": "markdown",
      "metadata": {
        "id": "RKw-y8UiFeW5"
      },
      "source": [
        "3rd step ->\n",
        "1. https://console.firebase.google.com/\n",
        "2. auth\n",
        "3. database -> FireStore\n",
        "4. Image  XStoring -> Fire base storage"
      ]
    },
    {
      "cell_type": "markdown",
      "metadata": {
        "id": "yxVmm7FWGd2A"
      },
      "source": [
        "Fire Store\n",
        "-----------\n",
        "auth -> email/pass -> enable\n"
      ]
    },
    {
      "cell_type": "markdown",
      "metadata": {
        "id": "QdprELyyHLnH"
      },
      "source": [
        "Firebase AUTH is used for authenticating the user using multiple  Auth Providers, and Default Email Id / Password "
      ]
    },
    {
      "cell_type": "markdown",
      "metadata": {
        "id": "Bkf5e66RKLH2"
      },
      "source": [
        "firebase-> project over view -> project settings -> Service account ->python -> generate key -> copy ."
      ]
    },
    {
      "cell_type": "markdown",
      "metadata": {
        "id": "OwWl0sZ9HlH_"
      },
      "source": [
        "project\n",
        "---------"
      ]
    },
    {
      "cell_type": "markdown",
      "metadata": {
        "id": "dwHcTI-5K-eK"
      },
      "source": [
        "After key downloaded\n",
        "--------------------\n",
        "1. upload key in coloab in ->\n",
        "files-> upload (from pc to colab)\n",
        "2. and right click the uploaded file and copy the path \n",
        "3. paste path in Certificate(\"path\")"
      ]
    },
    {
      "cell_type": "markdown",
      "metadata": {
        "id": "kaOI4pIEPlDR"
      },
      "source": [
        "#Initiated firebase"
      ]
    },
    {
      "cell_type": "code",
      "metadata": {
        "id": "DZcr6ZW_Hju9"
      },
      "source": [
        "import firebase_admin"
      ],
      "execution_count": 1,
      "outputs": []
    },
    {
      "cell_type": "code",
      "metadata": {
        "id": "hcmx_RisIe4z"
      },
      "source": [
        "from firebase_admin import auth, firestore, storage, credentials"
      ],
      "execution_count": 2,
      "outputs": []
    },
    {
      "cell_type": "code",
      "metadata": {
        "colab": {
          "base_uri": "https://localhost:8080/"
        },
        "id": "aZnVfqAbIyVf",
        "outputId": "83464112-b22e-44e3-e388-04a2b800c6b9"
      },
      "source": [
        "#-----------------------Firebase---------------------------\n",
        "\n",
        "cred = credentials.Certificate(\"/content/lu-tinder-firebase-adminsdk-o038f-282d78d889.json\")\n",
        "firebase_admin.initialize_app(cred)\n"
      ],
      "execution_count": 3,
      "outputs": [
        {
          "output_type": "execute_result",
          "data": {
            "text/plain": [
              "<firebase_admin.App at 0x7fb093f85e10>"
            ]
          },
          "metadata": {
            "tags": []
          },
          "execution_count": 3
        }
      ]
    },
    {
      "cell_type": "code",
      "metadata": {
        "id": "dyXaFOX1NQTb"
      },
      "source": [
        "store = firestore.client()"
      ],
      "execution_count": 4,
      "outputs": []
    },
    {
      "cell_type": "markdown",
      "metadata": {
        "id": "8VR6KNiCP87s"
      },
      "source": [
        "--------------------firebsae  Database end----------------------\n",
        "---------------------------------------------"
      ]
    },
    {
      "cell_type": "markdown",
      "metadata": {
        "id": "Ut2Y42u1QNMJ"
      },
      "source": [
        "#Auth/ authendication \n",
        "1. firebase-> auth-> go to doc (corrnor bell icon) open in new tab\n",
        "2. build -> authentication\n",
        "3. left side-> admin-> introduction (Read)\n",
        "4. manage user-> code avilable -> Create a User -> copy that code"
      ]
    },
    {
      "cell_type": "code",
      "metadata": {
        "colab": {
          "base_uri": "https://localhost:8080/"
        },
        "id": "xBHDFfXTP0g5",
        "outputId": "fafb60fd-6e2d-4738-c21c-bf61616094a0"
      },
      "source": [
        "# User signup\n",
        "user = auth.create_user(\n",
        "    email='loke@hack.to',\n",
        "    email_verified=False,\n",
        "    password='12345678')\n",
        "print('Sucessfully created new user: {0}'.format(user.uid))"
      ],
      "execution_count": 8,
      "outputs": [
        {
          "output_type": "stream",
          "text": [
            "Sucessfully created new user: 6CoLXmAgf2eJvEEKnni1gCjyrHh1\n"
          ],
          "name": "stdout"
        }
      ]
    },
    {
      "cell_type": "code",
      "metadata": {
        "colab": {
          "base_uri": "https://localhost:8080/"
        },
        "id": "eYjnUEzLSMAr",
        "outputId": "e235a2fe-0bb7-452b-b9e3-623f5b2df18e"
      },
      "source": [
        "# User Login ->\n",
        "try:\n",
        "  user = auth.get_user_by_email(\"mani@mail.com\")\n",
        "  print(user.uid)\n",
        "except:\n",
        "  print(\"Error no usesr found\")"
      ],
      "execution_count": 9,
      "outputs": [
        {
          "output_type": "stream",
          "text": [
            "Error no usesr found\n"
          ],
          "name": "stdout"
        }
      ]
    },
    {
      "cell_type": "code",
      "metadata": {
        "id": "PSz1ZXEKT41t"
      },
      "source": [
        "# Database ---->\n"
      ],
      "execution_count": 10,
      "outputs": []
    },
    {
      "cell_type": "code",
      "metadata": {
        "id": "YvmQuHGKUOJJ"
      },
      "source": [
        ""
      ],
      "execution_count": null,
      "outputs": []
    }
  ]
}